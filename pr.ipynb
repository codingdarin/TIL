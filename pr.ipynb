{
 "cells": [
  {
   "cell_type": "code",
   "execution_count": null,
   "id": "98c1c8e0",
   "metadata": {},
   "outputs": [],
   "source": [
    "for coin in coin_list:\n",
    "# 현재 동전으로 가능한 최대 수 \n",
    "# 정답에 더해준다\n",
    "# 금액을 빼준다\n",
    "\n"
   ]
  },
  {
   "cell_type": "code",
   "execution_count": null,
   "id": "d2fe88ff",
   "metadata": {},
   "outputs": [],
   "source": [
    "arr = [15,30,50,10]\n",
    "\n",
    "arr.sort(reversed=True)\n",
    "arr[0]\n",
    "\n"
   ]
  },
  {
   "cell_type": "code",
   "execution_count": null,
   "id": "da237104",
   "metadata": {},
   "outputs": [],
   "source": [
    "T = int(input())\n",
    "\n",
    "\n",
    "for tc in range(1, T+1):\n",
    "    N = int(input())\n",
    "    work_list = []\n",
    "    # 작업정보 받기\n",
    "    for i in range(N):\n",
    "        s, e = map(int, input().split())\n",
    "        work_list.append((s, e))\n",
    "\n",
    "    #종료 기준 정렬\n",
    "    work_list.sort(key=lambda x: x[1])\n",
    "    time = 0 \n",
    "    cnt = 0\n",
    "    # 시작시간 조건 체크한 뒤 맞는것만 보고, 종료시간을 현재시간으로 넣어주기\n",
    "    for i in range(N):\n",
    "        if work_list[i][0] >= time:\n",
    "            time = work_list[i][1]\n",
    "            cnt += 1\n",
    "    print(f\"#{tc} {cnt}\")\n",
    "\n"
   ]
  },
  {
   "cell_type": "code",
   "execution_count": null,
   "id": "b3751a49",
   "metadata": {},
   "outputs": [],
   "source": [
    "def is_run_or_triplet(arr):\n",
    "    for i in range(len(arr)-2):\n",
    "        if arr[i] >=3 or (arr[i] and arr[i+1] and arr[i+2]):\n",
    "            return True\n",
    "    False\n",
    "\n",
    "T = int(input())\n",
    "for tc in range(1, T+1):\n",
    "    arr = list(map(int, input().split()))\n",
    "    player_1 = [0] * 12   # 0~9 카운팅배열 + 뒤에 2 패딩\n",
    "    player_2 = [0] * 12\n",
    "    winner = 0 #무승부는 0\n",
    "\n",
    "    # 추가하고 검사하기\n",
    "    for i in range(len(arr)):\n",
    "        if i % 2== 0:\n",
    "            player_1[arr[i]] += 1\n",
    "            if is_run_or_triplet(player_1):\n",
    "                winner = 1\n",
    "                break\n",
    "\n",
    "        else:\n",
    "            player_2[arr[i]] += 1\n",
    "            if is_run_or_triplet((player_2)):\n",
    "                winner = 2\n",
    "                break\n",
    "    \n",
    "    print(f\"#{tc} {winner}\")"
   ]
  },
  {
   "cell_type": "code",
   "execution_count": null,
   "id": "d68302bd",
   "metadata": {},
   "outputs": [],
   "source": [
    "from collections import deque\n",
    "\n",
    "T = int(input())\n",
    "for tc in range(1, T+1):\n",
    "    M, N, K = map(int, input().split())\n",
    "\n",
    "    plant = [[0] * M for _ in range(N)]\n",
    "    visited = [[0] * M for _ in range(N)]\n",
    "    q = deque([])\n",
    "\n",
    "    for _ in range(K):\n",
    "        x, y = map(int, input().split())\n",
    "        plant[y][x] = 1\n",
    "        q.append((y, x))\n",
    "\n",
    "\n",
    "    di = [0, 1, 0, -1]\n",
    "    dj = [1, 0, -1, 0]\n",
    "\n",
    "    cnt = 0\n",
    "\n",
    "    while q:\n",
    "        ci, cj = q.popleft()\n",
    "\n",
    "        if not visited[ci][cj]:\n",
    "            visited[ci][cj] = 1\n",
    "            cnt += 1\n",
    "\n",
    "\n",
    "        for n in range(4):\n",
    "            fi, fj = ci + di[n], cj + dj[n]\n",
    "            if 0 <= fi < N and 0 <= fj < M and not visited[fi][fj] and plant[fi][fj] == 1:\n",
    "                visited[fi][fj] = 1\n",
    "                q.append((fi, fj))\n",
    "\n",
    "    print(cnt)"
   ]
  }
 ],
 "metadata": {
  "kernelspec": {
   "display_name": "Python 3",
   "language": "python",
   "name": "python3"
  },
  "language_info": {
   "codemirror_mode": {
    "name": "ipython",
    "version": 3
   },
   "file_extension": ".py",
   "mimetype": "text/x-python",
   "name": "python",
   "nbconvert_exporter": "python",
   "pygments_lexer": "ipython3",
   "version": "3.11.9"
  }
 },
 "nbformat": 4,
 "nbformat_minor": 5
}
